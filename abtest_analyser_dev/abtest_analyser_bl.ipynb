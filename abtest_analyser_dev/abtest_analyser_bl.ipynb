{
 "cells": [
  {
   "cell_type": "code",
   "execution_count": 1,
   "id": "f456388e",
   "metadata": {},
   "outputs": [],
   "source": [
    "# This script is built. as a working POC for an ab test analyser\n",
    "# The specific purpose for this can be split into a few areas\n",
    "# 1. Handle existing user test (not new users)\n",
    "# 2. Add more metrics\n",
    "# 3. Be able to zoom in on subgroups of (engaged) users\n",
    "# 4. Provide group size estimates and verify that these works\n",
    "\n",
    "# Data is fetched via Pandas Bigquery connector\n",
    "# Data is analyzed with bootstrapping\n",
    "# Up to 4 groups are allowed in this version (although this could easily be expanded if needed)\n"
   ]
  },
  {
   "cell_type": "code",
   "execution_count": 2,
   "id": "129c9d56",
   "metadata": {},
   "outputs": [],
   "source": [
    "import pandas_gbq\n",
    "import pydata_google_auth\n",
    "import numpy as np\n",
    "import random as rnd\n",
    "import matplotlib.pyplot as plt\n"
   ]
  },
  {
   "cell_type": "code",
   "execution_count": 3,
   "id": "9d466724",
   "metadata": {},
   "outputs": [],
   "source": [
    "# In this cell we make all the necessary settings for running the test\n",
    "\n",
    "# SQL to fetch the data\n",
    "#sql = \"SELECT  * FROM `maginteractive-se-analytics.magnus_dataset.v_nqd_ab_test_data_newuseradfree_202205` \"\n",
    "sql = \"SELECT  * FROM `maginteractive-se-analytics.magnus_dataset.v_wz_ab_test_data_interstitial_placement_202205` \"\n",
    "\n",
    "# Generic columns available:\n",
    "# inapp_spend, purchases, purchaser, playdays, ad_views, ad_views_per_day, \n",
    "# ad_revenue, ad_revenue_arpdau, revenue, arpdau\n",
    "\n",
    "# Additional columns in this dataset: v_nqd_ab_test_data_newuseradfree_202205\n",
    "# purchases_remove_ads_30, \n",
    "\n",
    "# Additional columns in this dataset: v_wz_ab_test_data_interstitial_placement_202205\n",
    "# paidswaps, games_started, games_finished\n",
    "\n",
    "\n",
    "analyse_group = \"all\"\n",
    "#analyse_group = \"engaged\"\n",
    "\n",
    "engagement_metric = \"purchases\"\n",
    "engagement_threshold = 0\n",
    "select_metric = \"games_finished\" \n",
    "\n",
    "truncate = 0\n",
    "\n",
    "# Use this together with Cell --> Run all to avoid loading the same data over and over again\n",
    "fetch_new_data = True\n",
    "#fetch_new_data = False\n",
    "\n",
    "# Basic parameters for determining group size\n",
    "power = 2 # multiples of std dev\n",
    "effect = 0.20 # in % of base mean\n",
    "\n",
    "# Set number of bootstrap rounds\n",
    "# This number is not critical, it just needs to be large enough to produce a relevant distribution of results\n",
    "bs_rounds = 20000\n",
    "\n",
    "#divided into\n",
    "chunks = 10\n"
   ]
  },
  {
   "cell_type": "code",
   "execution_count": 4,
   "id": "40f3bf4b",
   "metadata": {},
   "outputs": [
    {
     "name": "stdout",
     "output_type": "stream",
     "text": [
      "Reading data...\n"
     ]
    },
    {
     "name": "stderr",
     "output_type": "stream",
     "text": [
      "Downloading: 100%|█████████████████████████████████████████████████████████████████████| 18000/18000 [00:04<00:00, 3646.92rows/s]\n"
     ]
    }
   ],
   "source": [
    "# Fetch data from big query\n",
    "# Key data is ab test group and the metric\n",
    "if fetch_new_data:\n",
    "    SCOPES = [\n",
    "        'https://www.googleapis.com/auth/cloud-platform',\n",
    "        'https://www.googleapis.com/auth/drive',\n",
    "    ]\n",
    "\n",
    "    credentials = pydata_google_auth.get_user_credentials(\n",
    "        SCOPES,\n",
    "        # Set auth_local_webserver to True to have a slightly more convienient\n",
    "        # authorization flow. Note, this doesn't work if you're running from a\n",
    "        # notebook on a remote sever, such as over SSH or with Google Colab.\n",
    "        auth_local_webserver=True,\n",
    "        # Use the NOOP cache to avoid writing credentials to disk.\n",
    "        #cache=pydata_google_auth.cache.NOOP,\n",
    "    )\n",
    "\n",
    "    print('Reading data...')\n",
    "    raw_data = pandas_gbq.read_gbq(sql, project_id='maginteractive-se-analytics', credentials=credentials, dialect=\"standard\")"
   ]
  },
  {
   "cell_type": "code",
   "execution_count": 5,
   "id": "77f9028e",
   "metadata": {},
   "outputs": [
    {
     "name": "stdout",
     "output_type": "stream",
     "text": [
      "Raw data:         userid      min_dt  ab_group  purchaser  purchases  playdays  \\\n",
      "1  24977989663  2022-05-18         2          1         59        16   \n",
      "2  25140297923  2022-05-18         0          1         57        16   \n",
      "3  25280597682  2022-05-18         1          1         56        15   \n",
      "4  25440698571  2022-05-18         0          1         54        14   \n",
      "\n",
      "   inapp_spend  ad_views  ad_revenue  ad_views_per_day  ad_revenue_arpdau  \\\n",
      "1   294.410000     202.0    2.284321         12.625000           0.142770   \n",
      "2   190.759264      90.0    2.086735          5.625000           0.130421   \n",
      "3   135.440000     266.0   38.000685         17.733333           2.533379   \n",
      "4   240.169155     285.0    1.757666         20.357143           0.125548   \n",
      "\n",
      "      revenue     arpdau  collectiontoast  games_started  games_finished  \\\n",
      "1  296.694321  18.543395                0            441             115   \n",
      "2  192.845999  12.052875                2           1712             556   \n",
      "3  173.440685  11.562712                1            359             133   \n",
      "4  241.926821  17.280487                0            990             913   \n",
      "\n",
      "   rewardtabopened  rewardcollected  purchases_remove_ads_30  paidswaps  \n",
      "1                0                0                        0        800  \n",
      "2               28                0                        0        533  \n",
      "3               16                0                        0        452  \n",
      "4               29               12                        0        788  \n"
     ]
    }
   ],
   "source": [
    "# Check that data looks ok\n",
    "print('Raw data:',raw_data[1:5])"
   ]
  },
  {
   "cell_type": "code",
   "execution_count": 6,
   "id": "6e092ce0",
   "metadata": {},
   "outputs": [
    {
     "name": "stdout",
     "output_type": "stream",
     "text": [
      "Group 0 data: [[57 556]\n",
      " [54 913]\n",
      " [40 260]\n",
      " [35 146]]\n",
      "Group 1 data: [[52 203]\n",
      " [45 100]\n",
      " [29 405]\n",
      " [29 34]]\n",
      "Group 2 data: [[53 397]\n",
      " [52 128]\n",
      " [43 52]\n",
      " [41 240]]\n",
      "Group 3 data: []\n"
     ]
    }
   ],
   "source": [
    "# Extract the ab test groups from the data and put into numpy arrays\n",
    "# Use the selected engagement metric and measred metric and convert to numpy for further processing\n",
    "\n",
    "group0_all = raw_data.loc[:,[engagement_metric, select_metric]][raw_data.ab_group == 0].to_numpy()\n",
    "group1_all = raw_data.loc[:,[engagement_metric, select_metric]][raw_data.ab_group == 1].to_numpy()\n",
    "group2_all = raw_data.loc[:,[engagement_metric, select_metric]][raw_data.ab_group == 2].to_numpy()\n",
    "group3_all = raw_data.loc[:,[engagement_metric, select_metric]][raw_data.ab_group == 3].to_numpy()\n",
    "\n",
    "print('Group 0 data:',group0_all[1:5])\n",
    "print('Group 1 data:',group1_all[1:5])\n",
    "print('Group 2 data:',group2_all[1:5])\n",
    "print('Group 3 data:',group3_all[1:5])\n"
   ]
  },
  {
   "cell_type": "code",
   "execution_count": 7,
   "id": "e2a42563",
   "metadata": {},
   "outputs": [
    {
     "name": "stdout",
     "output_type": "stream",
     "text": [
      "Group 0 data: [[57 556]\n",
      " [54 913]\n",
      " [40 260]\n",
      " [35 146]]\n",
      "Group 1 data: [[52 203]\n",
      " [45 100]\n",
      " [29 405]\n",
      " [29 34]]\n",
      "Group 2 data: [[53 397]\n",
      " [52 128]\n",
      " [43 52]\n",
      " [41 240]]\n",
      "Group 3 data: []\n"
     ]
    }
   ],
   "source": [
    "# Extract the engaged users into new arrays\n",
    "# Use the selected threshold to break out these users from all users\n",
    "\n",
    "group0_engaged = group0_all[group0_all[:,0] > engagement_threshold]\n",
    "group1_engaged = group1_all[group1_all[:,0] > engagement_threshold]\n",
    "group2_engaged = group2_all[group2_all[:,0] > engagement_threshold]\n",
    "group3_engaged = group3_all[group3_all[:,0] > engagement_threshold]\n",
    "\n",
    "print('Group 0 data:',group0_engaged[1:5])\n",
    "print('Group 1 data:',group1_engaged[1:5])\n",
    "print('Group 2 data:',group2_engaged[1:5])\n",
    "print('Group 3 data:',group3_engaged[1:5])\n"
   ]
  },
  {
   "cell_type": "code",
   "execution_count": 8,
   "id": "65cd723a",
   "metadata": {},
   "outputs": [
    {
     "name": "stdout",
     "output_type": "stream",
     "text": [
      "5976 6015 6006 0\n",
      "404 433 364 0\n"
     ]
    }
   ],
   "source": [
    "# Extract the size of each group as they may be different\n",
    "n0_all = np.size(group0_all[truncate:-1,0])\n",
    "n1_all = np.size(group1_all[truncate:-1,0])\n",
    "n2_all = np.size(group2_all[truncate:-1,0])\n",
    "n3_all = np.size(group3_all[truncate:-1,0])\n",
    "\n",
    "# And the size of the engaged user groups\n",
    "n0_engaged = np.size(group0_engaged[truncate:-1,0])\n",
    "n1_engaged = np.size(group1_engaged[truncate:-1,0])\n",
    "n2_engaged = np.size(group2_engaged[truncate:-1,0])\n",
    "n3_engaged = np.size(group3_engaged[truncate:-1,0])\n",
    "\n",
    "# Print number of users and engaged per group\n",
    "print(n0_all, n1_all, n2_all, n3_all)\n",
    "print(n0_engaged, n1_engaged, n2_engaged, n3_engaged)\n"
   ]
  },
  {
   "cell_type": "code",
   "execution_count": 9,
   "id": "8161ab76",
   "metadata": {},
   "outputs": [
    {
     "name": "stdout",
     "output_type": "stream",
     "text": [
      "Full groups:\n",
      "group0: [[57 556]\n",
      " [54 913]\n",
      " [40 260]\n",
      " [35 146]]\n",
      "group1: [[52 203]\n",
      " [45 100]\n",
      " [29 405]\n",
      " [29 34]]\n",
      "group2: [[53 397]\n",
      " [52 128]\n",
      " [43 52]\n",
      " [41 240]]\n",
      "group3: []\n",
      "Groups with engaged users only:\n",
      "group0: [[57 556]\n",
      " [54 913]\n",
      " [40 260]\n",
      " [35 146]]\n",
      "group1: [[52 203]\n",
      " [45 100]\n",
      " [29 405]\n",
      " [29 34]]\n",
      "group2: [[53 397]\n",
      " [52 128]\n",
      " [43 52]\n",
      " [41 240]]\n",
      "group3: []\n",
      "Engagement rates:  0.06760374832663989 0.06051537822111388\n",
      "Group size:  405 434 365 0\n",
      "Group means:  77.167 71.334 73.233 nan\n",
      "Group variances:  11756.097 9620.341 10219.841 0\n",
      "Group std dev:  108.426 98.083 101.093 0.0\n",
      "Group sums:  461148 429072 439837 0\n"
     ]
    },
    {
     "name": "stderr",
     "output_type": "stream",
     "text": [
      "/opt/homebrew/Caskroom/miniforge/base/lib/python3.9/site-packages/numpy/core/fromnumeric.py:3440: RuntimeWarning: Mean of empty slice.\n",
      "  return _methods._mean(a, axis=axis, dtype=dtype,\n",
      "/opt/homebrew/Caskroom/miniforge/base/lib/python3.9/site-packages/numpy/core/_methods.py:191: RuntimeWarning: invalid value encountered in long_scalars\n",
      "  ret = ret / rcount\n"
     ]
    }
   ],
   "source": [
    "# Print quick check of each group data\n",
    "print(\"Full groups:\")\n",
    "print('group0:',group0_all[1:5])\n",
    "print('group1:',group1_all[1:5])\n",
    "print('group2:',group2_all[1:5])\n",
    "print('group3:',group3_all[1:5])\n",
    "\n",
    "# Print quick check of each group data\n",
    "print(\"Groups with engaged users only:\")\n",
    "print('group0:',group0_engaged[1:5])\n",
    "print('group1:',group1_engaged[1:5])\n",
    "print('group2:',group2_engaged[1:5])\n",
    "print('group3:',group3_engaged[1:5])\n",
    "\n",
    "# Select which groups to analuse, \"all\" or \"engaged\"\n",
    "if analyse_group == \"engaged\":\n",
    "    group0 = group0_engaged\n",
    "    group1 = group1_engaged\n",
    "    group2 = group2_engaged\n",
    "    group3 = group3_engaged\n",
    "else:\n",
    "    group0 = group0_all\n",
    "    group1 = group1_all\n",
    "    group2 = group2_all\n",
    "    group3 = group3_all\n",
    "\n",
    "group0 = group0[truncate:-1]\n",
    "group1 = group1[truncate:-1]\n",
    "group2 = group2[truncate:-1]\n",
    "group3 = group3[truncate:-1]\n",
    "\n",
    "n0 = np.count_nonzero(group0[:,0])\n",
    "n1 = np.count_nonzero(group1[:,0])\n",
    "n2 = np.count_nonzero(group2[:,0])\n",
    "n3 = np.count_nonzero(group3[:,0])\n",
    "\n",
    "    \n",
    "# Calculate the engagement rates for each group\n",
    "group0_eng_rate = n0_engaged / n0_all\n",
    "group1_eng_rate = n2_engaged / n1_all\n",
    "if n2_all > 0: group2_eng_rate = n2_engaged / n2_all\n",
    "else: 0\n",
    "if n3_all > 0: group3_eng_rate = n3_engaged / n3_all \n",
    "else: 0\n",
    "\n",
    "print(\"Engagement rates: \", group0_eng_rate, group1_eng_rate) #, group2_eng_rate, group3_eng_rate)\n",
    "\n",
    "# Base data mean\n",
    "mean0 = np.mean(group0[:,1])\n",
    "mean1 = np.mean(group1[:,1])\n",
    "mean2 = np.mean(group2[:,1])\n",
    "mean3 = np.mean(group3[:,1])\n",
    "\n",
    "# Print the theoretical CLT variances based \n",
    "print(\"Group size: \", n0, n1, n2, n3)\n",
    "print(\"Group means: \", round(mean0,3), round(mean1, 3), round(mean2, 3), round(mean3, 3))\n",
    "\n",
    "# Reset all variance\n",
    "var0, var1, var2, var3 = (0,0,0,0)\n",
    "var01, var02, var03, var12, var13, var23 = (0,0,0,0,0,0)\n",
    "\n",
    "# Base data variance\n",
    "var0 = np.var(group0[:,1])\n",
    "var1 = np.var(group1[:,1])\n",
    "if n2 > 0: var2 = np.var(group2[:,1])\n",
    "if n3 > 0: var3 = np.var(group3[:,1])\n",
    "\n",
    "# Standard deviations for each group\n",
    "stdev0 = np.sqrt(var0)\n",
    "stdev1 = np.sqrt(var1)\n",
    "stdev2 = np.sqrt(var2)\n",
    "stdev3 = np.sqrt(var3)\n",
    "\n",
    "print(\"Group variances: \", round(var0,3), round(var1, 3), round(var2, 3), round(var3, 3))\n",
    "print(\"Group std dev: \", round(stdev0,3), round(stdev1, 3), round(stdev2, 3), round(stdev3, 3))\n",
    "\n",
    "print(\"Group sums: \", round(np.sum(group0[:,1]),3), round(np.sum(group1[:,1]),3), round(np.sum(group2[:,1]),3), round(np.sum(group3[:,1]),3))\n",
    "\n",
    "\n"
   ]
  },
  {
   "cell_type": "code",
   "execution_count": 10,
   "id": "08b0e1c6",
   "metadata": {},
   "outputs": [
    {
     "name": "stdout",
     "output_type": "stream",
     "text": [
      "[]\n"
     ]
    }
   ],
   "source": [
    "print(group3)"
   ]
  },
  {
   "cell_type": "code",
   "execution_count": 11,
   "id": "cc9d0723",
   "metadata": {},
   "outputs": [
    {
     "data": {
      "text/plain": [
       "array([[56, 133],\n",
       "       [52, 203],\n",
       "       [45, 100],\n",
       "       ...,\n",
       "       [0, 2],\n",
       "       [0, 0],\n",
       "       [0, 2]], dtype=object)"
      ]
     },
     "execution_count": 11,
     "metadata": {},
     "output_type": "execute_result"
    }
   ],
   "source": [
    "group1"
   ]
  },
  {
   "cell_type": "code",
   "execution_count": 12,
   "id": "18e8192d",
   "metadata": {},
   "outputs": [
    {
     "name": "stdout",
     "output_type": "stream",
     "text": [
      "86\n",
      "77\n",
      "87\n",
      "0\n"
     ]
    }
   ],
   "source": [
    "p=9\n",
    "print(np.count_nonzero(group0[group0 == p]))\n",
    "print(np.count_nonzero(group1[group1 == p]))\n",
    "print(np.count_nonzero(group2[group2 == p]))\n",
    "print(np.count_nonzero(group3[group3 == p]))"
   ]
  },
  {
   "cell_type": "code",
   "execution_count": 13,
   "id": "71175d82",
   "metadata": {},
   "outputs": [
    {
     "name": "stdout",
     "output_type": "stream",
     "text": [
      "Mean diff var/stdev:  51.194085316834716 7.155004215011667\n"
     ]
    }
   ],
   "source": [
    "# Calculate the bootstraop mean diff variance\n",
    "#var0 = np.var(group0[:,1])\n",
    "#var1 = np.var(group1[:,1])\n",
    "#if n2_all > 0: var2 = np.var(group2[:,1])\n",
    "#if n3_all > 0: var3 = np.var(group3[:,1])\n",
    "\n",
    "# Calculate theoretical bootstrap statistics\n",
    "bs_meandiff_var01 = var0/n0 + var1/n1\n",
    "bs_meandiff_stdev01 = np.sqrt(bs_meandiff_var01)\n",
    "\n",
    "print(\"Mean diff var/stdev: \", bs_meandiff_var01, bs_meandiff_stdev01)"
   ]
  },
  {
   "cell_type": "code",
   "execution_count": 14,
   "id": "03ecb022",
   "metadata": {},
   "outputs": [
    {
     "name": "stdout",
     "output_type": "stream",
     "text": [
      "Resolve power:  14.310008430023334\n"
     ]
    }
   ],
   "source": [
    "# Calculate resolve power (90%)\n",
    "res_pwr = power * bs_meandiff_stdev01\n",
    "print(\"Resolve power: \", res_pwr)\n"
   ]
  },
  {
   "cell_type": "code",
   "execution_count": 15,
   "id": "42617fc5",
   "metadata": {},
   "outputs": [
    {
     "name": "stdout",
     "output_type": "stream",
     "text": [
      "Group zero mean:  77.16666666666667\n",
      "Group zero variance:  11756.097054886486\n",
      "Group size needed:  394.85139546848046\n",
      "2 11756.097054886486 0.2 77.16666666666667\n"
     ]
    }
   ],
   "source": [
    "# Calculate needed group size\n",
    "std0 = np.sqrt(var0)\n",
    "print(\"Group zero mean: \", mean0)\n",
    "print(\"Group zero variance: \", var0)\n",
    "\n",
    "group_size_needed = 2 * (power * std0 / effect /  mean0) ** 2\n",
    "print(\"Group size needed: \", group_size_needed)\n",
    "print(power, var0, effect, mean0)\n"
   ]
  },
  {
   "cell_type": "code",
   "execution_count": 16,
   "id": "4a26ad16",
   "metadata": {},
   "outputs": [
    {
     "name": "stdout",
     "output_type": "stream",
     "text": [
      "405 434 365 0\n",
      "Chunk:  0\n",
      "Chunk:  1\n",
      "Chunk:  2\n",
      "Chunk:  3\n",
      "Chunk:  4\n",
      "Chunk:  5\n",
      "Chunk:  6\n",
      "Chunk:  7\n",
      "Chunk:  8\n",
      "Chunk:  9\n"
     ]
    }
   ],
   "source": [
    "# Now bootstrap\n",
    "\n",
    "rounds_per_chunk = np.round(bs_rounds / chunks).astype(int)\n",
    "\n",
    "# And create an array to store the result\n",
    "# Results here is the absolute difference in the number of purchases in the respective\n",
    "# Subscripts \"ab\" means \"group b - group a\"\n",
    "r01 = np.ndarray(bs_rounds)\n",
    "r12 = np.ndarray(bs_rounds)\n",
    "r23 = np.ndarray(bs_rounds)\n",
    "\n",
    "r02 = np.ndarray(bs_rounds)\n",
    "r03 = np.ndarray(bs_rounds)\n",
    "r13 = np.ndarray(bs_rounds)\n",
    "\n",
    "# Also create straight result arrays for boitstrap means of each individual group\n",
    "r0 = np.ndarray(bs_rounds)\n",
    "r1 = np.ndarray(bs_rounds)\n",
    "r2 = np.ndarray(bs_rounds)\n",
    "r3 = np.ndarray(bs_rounds)\n",
    "\n",
    "# Print the group sizes for check\n",
    "print(n0, n1, n2, n3)\n",
    "\n",
    "# Now loop through the boot strap rounds and store the difference between a and b for each round\n",
    "for i in range(chunks):\n",
    "    print(\"Chunk: \", i)\n",
    "    for j in range(rounds_per_chunk):\n",
    "        \n",
    "        # Randomly select the bootstrap sample from each group and take mean\n",
    "        bs0a = np.mean(np.random.choice(group0[:,1], n0))\n",
    "        bs0b = np.mean(np.random.choice(group0[:,1], n0))\n",
    "        bs0c = np.mean(np.random.choice(group0[:,1], n0))\n",
    "\n",
    "        bs1a = np.mean(np.random.choice(group1[:,1], n1))\n",
    "        bs1b = np.mean(np.random.choice(group1[:,1], n1))\n",
    "        bs1c = np.mean(np.random.choice(group1[:,1], n1))\n",
    "\n",
    "        bs2a = np.mean(np.random.choice(group2[:,1], n2))\n",
    "        bs2b = np.mean(np.random.choice(group2[:,1], n2))\n",
    "        bs2c = np.mean(np.random.choice(group2[:,1], n2))\n",
    "\n",
    "        bs3a = np.mean(np.random.choice(group3[:,1], n3))\n",
    "        bs3b = np.mean(np.random.choice(group3[:,1], n3))\n",
    "        bs3c = np.mean(np.random.choice(group3[:,1], n3))\n",
    "\n",
    "        # Create bootstrap diff for all combinations\n",
    "        r01[i * rounds_per_chunk + j] = bs1a - bs0a\n",
    "        r02[i * rounds_per_chunk + j] = bs2a - bs0b\n",
    "        r03[i * rounds_per_chunk + j] = bs3a - bs0c\n",
    "\n",
    "        r12[i * rounds_per_chunk + j] = bs2b - bs1b\n",
    "        r13[i * rounds_per_chunk + j] = bs3b - bs1c\n",
    "\n",
    "        r23[i * rounds_per_chunk + j] = bs3c - bs2c\n",
    "\n",
    "        # Also save each individual group bootstrap mean distribution\n",
    "        r0[i * rounds_per_chunk + j] = bs0a\n",
    "        r1[i * rounds_per_chunk + j] = bs1a\n",
    "        r2[i * rounds_per_chunk + j] = bs2a\n",
    "        r3[i * rounds_per_chunk + j] = bs3a\n"
   ]
  },
  {
   "cell_type": "code",
   "execution_count": 17,
   "id": "ceccd0cd",
   "metadata": {
    "scrolled": true
   },
   "outputs": [
    {
     "data": {
      "image/png": "[encoded data removed]",
      "text/plain": [
       "<Figure size 432x288 with 1 Axes>"
      ]
     },
     "metadata": {
      "needs_background": "light"
     },
     "output_type": "display_data"
    },
    {
     "data": {
      "image/png": "[encoded data removed]",
      "text/plain": [
       "<Figure size 432x288 with 1 Axes>"
      ]
     },
     "metadata": {
      "needs_background": "light"
     },
     "output_type": "display_data"
    },
    {
     "data": {
      "image/png": "[encoded data removed]",
      "text/plain": [
       "<Figure size 432x288 with 1 Axes>"
      ]
     },
     "metadata": {
      "needs_background": "light"
     },
     "output_type": "display_data"
    },
    {
     "name": "stdout",
     "output_type": "stream",
     "text": [
      "Mean, var:  77.16666666666667 11756.097054886486\n"
     ]
    },
    {
     "data": {
      "image/png": "[encoded data removed]",
      "text/plain": [
       "<Figure size 432x288 with 1 Axes>"
      ]
     },
     "metadata": {
      "needs_background": "light"
     },
     "output_type": "display_data"
    },
    {
     "name": "stdout",
     "output_type": "stream",
     "text": [
      "Mean, var:  71.33366583541147 9620.341368689635\n"
     ]
    },
    {
     "data": {
      "image/png": "[encoded data removed]",
      "text/plain": [
       "<Figure size 432x288 with 1 Axes>"
      ]
     },
     "metadata": {
      "needs_background": "light"
     },
     "output_type": "display_data"
    },
    {
     "name": "stdout",
     "output_type": "stream",
     "text": [
      "Mean, var:  73.23293373293373 10219.840680271012\n",
      "mean 0-1:  -5.935937483358935\n",
      "var 0-1:  51.54179752465772\n",
      "Confidence 0-1:  0.20275\n",
      "Confidence 0-2:  0.30915\n",
      "Confidence 0-3:  0.0\n",
      "Confidence 1-2:  0.60555\n",
      "Confidence 1-3:  0.0\n",
      "Confidence 2-3:  0.0\n"
     ]
    }
   ],
   "source": [
    "# Plot the bootstrap distribution diff distributions\n",
    "plt.hist(r01, 50, label=\"r01\", histtype = \"step\")\n",
    "if n2 > 0: plt.hist(r12, 50, label=\"r12\", histtype = \"step\")\n",
    "if n2 > 0 and n3 > 0: plt.hist(r23, 50, label=\"r23\", histtype = \"step\")\n",
    "if n2 > 0: plt.hist(r02, 50, label=\"r02\", histtype = \"step\")\n",
    "if n3 > 0: plt.hist(r03, 50, label=\"r03\", histtype = \"step\")\n",
    "if n3 > 0: plt.hist(r13, 50, label=\"r13\", histtype = \"step\")\n",
    "plt.legend()\n",
    "plt.show()\n",
    "\n",
    "# Plot the iundividual bootstrap distributions\n",
    "plt.hist(r0, 50, label=\"r0\", histtype = \"step\")\n",
    "plt.hist(r1, 50, label=\"r1\", histtype = \"step\")\n",
    "if n2 > 0: plt.hist(r2, 50, label=\"r2\", histtype = \"step\")\n",
    "if n3 > 0: plt.hist(r3, 50, label=\"r3\", histtype = \"step\")\n",
    "plt.legend()\n",
    "plt.show()\n",
    "\n",
    "# Create individual plots\n",
    "plt.hist(r0, 50, label=\"r0\", histtype = \"step\")\n",
    "plt.legend()\n",
    "plt.show()\n",
    "print(\"Mean, var: \", mean0, var0)\n",
    "\n",
    "plt.hist(r1, 50, label=\"r1\", histtype = \"step\")\n",
    "plt.legend()\n",
    "plt.show()\n",
    "print(\"Mean, var: \", mean1, var1)\n",
    "\n",
    "if n2 > 0:\n",
    "    plt.hist(r2, 50, label=\"r2\", histtype = \"step\")\n",
    "    plt.legend()\n",
    "    plt.show()\n",
    "    print(\"Mean, var: \", mean2, var2)\n",
    "\n",
    "if n3 > 0:\n",
    "    plt.hist(r3, 50, label=\"r3\", histtype = \"step\")\n",
    "    plt.legend()\n",
    "    plt.show()\n",
    "    print(\"Mean, var: \", mean3, var3)\n",
    "\n",
    "# Calculate the distribution characteristics (based on maximum lilelihood for the normal distribution)\n",
    "# This is done forf one random combinations\n",
    "mean01 = np.average(r01)\n",
    "var01 = np.average(r01 ** 2 - mean01 ** 2)\n",
    "\n",
    "# Print results\n",
    "print(\"mean 0-1: \", mean01)\n",
    "print(\"var 0-1: \", var01)\n",
    "print(\"Confidence 0-1: \", np.count_nonzero(r01[r01>0])/np.size(r01))\n",
    "print(\"Confidence 0-2: \", np.count_nonzero(r02[r02>0])/np.size(r02))\n",
    "print(\"Confidence 0-3: \", np.count_nonzero(r03[r03>0])/np.size(r03))\n",
    "print(\"Confidence 1-2: \", np.count_nonzero(r12[r12>0])/np.size(r12))\n",
    "print(\"Confidence 1-3: \", np.count_nonzero(r13[r13>0])/np.size(r13))\n",
    "print(\"Confidence 2-3: \", np.count_nonzero(r23[r23>0])/np.size(r23))\n"
   ]
  },
  {
   "cell_type": "code",
   "execution_count": 18,
   "id": "13502b4b",
   "metadata": {},
   "outputs": [
    {
     "name": "stdout",
     "output_type": "stream",
     "text": [
      "Group var 0,1,2 & 3:  11756.1 9620.34 10219.84 0\n",
      "Boot strap var 01, 02, 03, 12, 13 & 23:  51.54 58.0 0 51.07 0 0\n",
      "Theoretical bs var:  52.78 54.26 29.03 48.99 23.75 25.23\n"
     ]
    }
   ],
   "source": [
    "# Bootstrap mean diff variances for all combonations\n",
    "var01 = np.var(r01)\n",
    "if n2 > 0: var02 = np.var(r02)\n",
    "if n3 > 0: var03 = np.var(r03)\n",
    "if n2 > 0: var12 = np.var(r12)\n",
    "if n3 > 0: var13 = np.var(r13)\n",
    "if n2 > 0 and n3 > 0: var23 = np.var(r23)\n",
    "\n",
    "# Compare bootstrap theoretical mean diff variance to experimental\n",
    "print(\"Group var 0,1,2 & 3: \", round(var0, 2), round(var1, 2), round(var2, 2), round(var3, 2))\n",
    "print(\"Boot strap var 01, 02, 03, 12, 13 & 23: \", round(var01, 2), round(var02, 2), round(var03, 2), round(var12, 2), round(var13, 2), round(var23, 2))\n",
    "print(\"Theoretical bs var: \", round((var0 + var1)/n0, 2), round((var0 + var2)/n0, 2), round((var0 + var3)/n0, 2), round((var1 + var2)/n0, 2), round((var1 + var3)/n0, 2), round((var2 + var3)/n0, 2))\n"
   ]
  },
  {
   "cell_type": "code",
   "execution_count": null,
   "id": "e3bca9ca",
   "metadata": {},
   "outputs": [],
   "source": []
  },
  {
   "cell_type": "code",
   "execution_count": null,
   "id": "8a7985f4",
   "metadata": {},
   "outputs": [],
   "source": []
  }
 ],
 "metadata": {
  "kernelspec": {
   "display_name": "Python 3 (ipykernel)",
   "language": "python",
   "name": "python3"
  },
  "language_info": {
   "codemirror_mode": {
    "name": "ipython",
    "version": 3
   },
   "file_extension": ".py",
   "mimetype": "text/x-python",
   "name": "python",
   "nbconvert_exporter": "python",
   "pygments_lexer": "ipython3",
   "version": "3.9.7"
  }
 },
 "nbformat": 4,
 "nbformat_minor": 5
}
